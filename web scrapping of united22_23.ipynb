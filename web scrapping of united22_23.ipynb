{
 "cells": [
  {
   "cell_type": "code",
   "execution_count": 230,
   "id": "685df9be",
   "metadata": {},
   "outputs": [],
   "source": [
    "import requests"
   ]
  },
  {
   "cell_type": "code",
   "execution_count": 231,
   "id": "ddb92dd8",
   "metadata": {},
   "outputs": [],
   "source": [
    "standing_url=\"https://fbref.com/en/comps/9/2022-2023/2022-2023-Premier-League-Stats#all_results2023-202491\""
   ]
  },
  {
   "cell_type": "code",
   "execution_count": 232,
   "id": "d83ac29c",
   "metadata": {},
   "outputs": [],
   "source": [
    "data=requests.get(standing_url)"
   ]
  },
  {
   "cell_type": "code",
   "execution_count": 233,
   "id": "c1cd4f52",
   "metadata": {},
   "outputs": [],
   "source": [
    "from bs4 import BeautifulSoup"
   ]
  },
  {
   "cell_type": "code",
   "execution_count": 234,
   "id": "1c40f28c",
   "metadata": {},
   "outputs": [],
   "source": [
    "soup =BeautifulSoup(data.text)"
   ]
  },
  {
   "cell_type": "code",
   "execution_count": 235,
   "id": "eb5760d5",
   "metadata": {},
   "outputs": [],
   "source": [
    "standing_table=soup.select('table.stats_table')[0]"
   ]
  },
  {
   "cell_type": "code",
   "execution_count": 236,
   "id": "f371231b",
   "metadata": {},
   "outputs": [],
   "source": [
    "links = standing_table.find_all('a')"
   ]
  },
  {
   "cell_type": "code",
   "execution_count": 237,
   "id": "d839a065",
   "metadata": {},
   "outputs": [],
   "source": [
    "links =[l.get('href') for l in links]"
   ]
  },
  {
   "cell_type": "code",
   "execution_count": 238,
   "id": "a443e68c",
   "metadata": {},
   "outputs": [],
   "source": [
    "links =[l for l in links if '/squads/' in l]"
   ]
  },
  {
   "cell_type": "code",
   "execution_count": 239,
   "id": "b5db338b",
   "metadata": {},
   "outputs": [],
   "source": [
    "team_urls=[f\"https://fbref.com{l}\" for l in links]"
   ]
  },
  {
   "cell_type": "code",
   "execution_count": 240,
   "id": "0be9ade1",
   "metadata": {},
   "outputs": [
    {
     "data": {
      "text/plain": [
       "['https://fbref.com/en/squads/b8fd03ef/2022-2023/Manchester-City-Stats',\n",
       " 'https://fbref.com/en/squads/18bb7c10/2022-2023/Arsenal-Stats',\n",
       " 'https://fbref.com/en/squads/19538871/2022-2023/Manchester-United-Stats',\n",
       " 'https://fbref.com/en/squads/b2b47a98/2022-2023/Newcastle-United-Stats',\n",
       " 'https://fbref.com/en/squads/822bd0ba/2022-2023/Liverpool-Stats',\n",
       " 'https://fbref.com/en/squads/d07537b9/2022-2023/Brighton-and-Hove-Albion-Stats',\n",
       " 'https://fbref.com/en/squads/8602292d/2022-2023/Aston-Villa-Stats',\n",
       " 'https://fbref.com/en/squads/361ca564/2022-2023/Tottenham-Hotspur-Stats',\n",
       " 'https://fbref.com/en/squads/cd051869/2022-2023/Brentford-Stats',\n",
       " 'https://fbref.com/en/squads/fd962109/2022-2023/Fulham-Stats',\n",
       " 'https://fbref.com/en/squads/47c64c55/2022-2023/Crystal-Palace-Stats',\n",
       " 'https://fbref.com/en/squads/cff3d9bb/2022-2023/Chelsea-Stats',\n",
       " 'https://fbref.com/en/squads/8cec06e1/2022-2023/Wolverhampton-Wanderers-Stats',\n",
       " 'https://fbref.com/en/squads/7c21e445/2022-2023/West-Ham-United-Stats',\n",
       " 'https://fbref.com/en/squads/4ba7cbea/2022-2023/Bournemouth-Stats',\n",
       " 'https://fbref.com/en/squads/e4a775cb/2022-2023/Nottingham-Forest-Stats',\n",
       " 'https://fbref.com/en/squads/d3fd31cc/2022-2023/Everton-Stats',\n",
       " 'https://fbref.com/en/squads/a2d435b3/2022-2023/Leicester-City-Stats',\n",
       " 'https://fbref.com/en/squads/5bfb9659/2022-2023/Leeds-United-Stats',\n",
       " 'https://fbref.com/en/squads/33c895d4/2022-2023/Southampton-Stats']"
      ]
     },
     "execution_count": 240,
     "metadata": {},
     "output_type": "execute_result"
    }
   ],
   "source": [
    "team_urls"
   ]
  },
  {
   "cell_type": "code",
   "execution_count": 241,
   "id": "c8596800",
   "metadata": {},
   "outputs": [],
   "source": [
    "team_url=team_urls[2]"
   ]
  },
  {
   "cell_type": "code",
   "execution_count": 242,
   "id": "3a8d559d",
   "metadata": {},
   "outputs": [
    {
     "data": {
      "text/plain": [
       "'https://fbref.com/en/squads/19538871/2022-2023/Manchester-United-Stats'"
      ]
     },
     "execution_count": 242,
     "metadata": {},
     "output_type": "execute_result"
    }
   ],
   "source": [
    "team_url"
   ]
  },
  {
   "cell_type": "code",
   "execution_count": 243,
   "id": "a1b40f08",
   "metadata": {},
   "outputs": [],
   "source": [
    "data = requests.get(team_url)"
   ]
  },
  {
   "cell_type": "code",
   "execution_count": 244,
   "id": "8c567e1e",
   "metadata": {},
   "outputs": [],
   "source": [
    "import pandas as pd"
   ]
  },
  {
   "cell_type": "code",
   "execution_count": 245,
   "id": "7b0c2e46",
   "metadata": {},
   "outputs": [],
   "source": [
    "matches =pd.read_html(data.text,match=\"Scores & Fixtures\")"
   ]
  },
  {
   "cell_type": "code",
   "execution_count": 246,
   "id": "a3817cb1",
   "metadata": {},
   "outputs": [
    {
     "data": {
      "text/html": [
       "<div>\n",
       "<style scoped>\n",
       "    .dataframe tbody tr th:only-of-type {\n",
       "        vertical-align: middle;\n",
       "    }\n",
       "\n",
       "    .dataframe tbody tr th {\n",
       "        vertical-align: top;\n",
       "    }\n",
       "\n",
       "    .dataframe thead th {\n",
       "        text-align: right;\n",
       "    }\n",
       "</style>\n",
       "<table border=\"1\" class=\"dataframe\">\n",
       "  <thead>\n",
       "    <tr style=\"text-align: right;\">\n",
       "      <th></th>\n",
       "      <th>Date</th>\n",
       "      <th>Time</th>\n",
       "      <th>Comp</th>\n",
       "      <th>Round</th>\n",
       "      <th>Day</th>\n",
       "      <th>Venue</th>\n",
       "      <th>Result</th>\n",
       "      <th>GF</th>\n",
       "      <th>GA</th>\n",
       "      <th>Opponent</th>\n",
       "      <th>xG</th>\n",
       "      <th>xGA</th>\n",
       "      <th>Poss</th>\n",
       "      <th>Attendance</th>\n",
       "      <th>Captain</th>\n",
       "      <th>Formation</th>\n",
       "      <th>Opp Formation</th>\n",
       "      <th>Referee</th>\n",
       "      <th>Match Report</th>\n",
       "      <th>Notes</th>\n",
       "    </tr>\n",
       "  </thead>\n",
       "  <tbody>\n",
       "    <tr>\n",
       "      <th>0</th>\n",
       "      <td>2022-08-07</td>\n",
       "      <td>14:00</td>\n",
       "      <td>Premier League</td>\n",
       "      <td>Matchweek 1</td>\n",
       "      <td>Sun</td>\n",
       "      <td>Home</td>\n",
       "      <td>L</td>\n",
       "      <td>1</td>\n",
       "      <td>2</td>\n",
       "      <td>Brighton</td>\n",
       "      <td>1.4</td>\n",
       "      <td>1.5</td>\n",
       "      <td>62</td>\n",
       "      <td>73711</td>\n",
       "      <td>Harry Maguire</td>\n",
       "      <td>4-3-3</td>\n",
       "      <td>3-3-3-1</td>\n",
       "      <td>Paul Tierney</td>\n",
       "      <td>Match Report</td>\n",
       "      <td>NaN</td>\n",
       "    </tr>\n",
       "    <tr>\n",
       "      <th>1</th>\n",
       "      <td>2022-08-13</td>\n",
       "      <td>17:30</td>\n",
       "      <td>Premier League</td>\n",
       "      <td>Matchweek 2</td>\n",
       "      <td>Sat</td>\n",
       "      <td>Away</td>\n",
       "      <td>L</td>\n",
       "      <td>0</td>\n",
       "      <td>4</td>\n",
       "      <td>Brentford</td>\n",
       "      <td>0.9</td>\n",
       "      <td>1.6</td>\n",
       "      <td>66</td>\n",
       "      <td>17051</td>\n",
       "      <td>Harry Maguire</td>\n",
       "      <td>4-2-3-1</td>\n",
       "      <td>5-3-2</td>\n",
       "      <td>Stuart Attwell</td>\n",
       "      <td>Match Report</td>\n",
       "      <td>NaN</td>\n",
       "    </tr>\n",
       "    <tr>\n",
       "      <th>2</th>\n",
       "      <td>2022-08-22</td>\n",
       "      <td>20:00</td>\n",
       "      <td>Premier League</td>\n",
       "      <td>Matchweek 3</td>\n",
       "      <td>Mon</td>\n",
       "      <td>Home</td>\n",
       "      <td>W</td>\n",
       "      <td>2</td>\n",
       "      <td>1</td>\n",
       "      <td>Liverpool</td>\n",
       "      <td>1.8</td>\n",
       "      <td>1.3</td>\n",
       "      <td>30</td>\n",
       "      <td>74147</td>\n",
       "      <td>Bruno Fernandes</td>\n",
       "      <td>4-2-3-1</td>\n",
       "      <td>4-3-3</td>\n",
       "      <td>Michael Oliver</td>\n",
       "      <td>Match Report</td>\n",
       "      <td>NaN</td>\n",
       "    </tr>\n",
       "    <tr>\n",
       "      <th>3</th>\n",
       "      <td>2022-08-27</td>\n",
       "      <td>12:30</td>\n",
       "      <td>Premier League</td>\n",
       "      <td>Matchweek 4</td>\n",
       "      <td>Sat</td>\n",
       "      <td>Away</td>\n",
       "      <td>W</td>\n",
       "      <td>1</td>\n",
       "      <td>0</td>\n",
       "      <td>Southampton</td>\n",
       "      <td>1.1</td>\n",
       "      <td>1.4</td>\n",
       "      <td>51</td>\n",
       "      <td>31196</td>\n",
       "      <td>Bruno Fernandes</td>\n",
       "      <td>4-2-3-1</td>\n",
       "      <td>4-2-3-1</td>\n",
       "      <td>Andy Madley</td>\n",
       "      <td>Match Report</td>\n",
       "      <td>NaN</td>\n",
       "    </tr>\n",
       "    <tr>\n",
       "      <th>4</th>\n",
       "      <td>2022-09-01</td>\n",
       "      <td>20:00</td>\n",
       "      <td>Premier League</td>\n",
       "      <td>Matchweek 5</td>\n",
       "      <td>Thu</td>\n",
       "      <td>Away</td>\n",
       "      <td>W</td>\n",
       "      <td>1</td>\n",
       "      <td>0</td>\n",
       "      <td>Leicester City</td>\n",
       "      <td>1.5</td>\n",
       "      <td>0.7</td>\n",
       "      <td>47</td>\n",
       "      <td>32226</td>\n",
       "      <td>Bruno Fernandes</td>\n",
       "      <td>4-2-3-1</td>\n",
       "      <td>4-1-4-1</td>\n",
       "      <td>Craig Pawson</td>\n",
       "      <td>Match Report</td>\n",
       "      <td>NaN</td>\n",
       "    </tr>\n",
       "    <tr>\n",
       "      <th>...</th>\n",
       "      <td>...</td>\n",
       "      <td>...</td>\n",
       "      <td>...</td>\n",
       "      <td>...</td>\n",
       "      <td>...</td>\n",
       "      <td>...</td>\n",
       "      <td>...</td>\n",
       "      <td>...</td>\n",
       "      <td>...</td>\n",
       "      <td>...</td>\n",
       "      <td>...</td>\n",
       "      <td>...</td>\n",
       "      <td>...</td>\n",
       "      <td>...</td>\n",
       "      <td>...</td>\n",
       "      <td>...</td>\n",
       "      <td>...</td>\n",
       "      <td>...</td>\n",
       "      <td>...</td>\n",
       "      <td>...</td>\n",
       "    </tr>\n",
       "    <tr>\n",
       "      <th>57</th>\n",
       "      <td>2023-05-13</td>\n",
       "      <td>15:00</td>\n",
       "      <td>Premier League</td>\n",
       "      <td>Matchweek 36</td>\n",
       "      <td>Sat</td>\n",
       "      <td>Home</td>\n",
       "      <td>W</td>\n",
       "      <td>2</td>\n",
       "      <td>0</td>\n",
       "      <td>Wolves</td>\n",
       "      <td>3.2</td>\n",
       "      <td>0.3</td>\n",
       "      <td>48</td>\n",
       "      <td>73570</td>\n",
       "      <td>Bruno Fernandes</td>\n",
       "      <td>4-2-3-1</td>\n",
       "      <td>4-4-2</td>\n",
       "      <td>John Brooks</td>\n",
       "      <td>Match Report</td>\n",
       "      <td>NaN</td>\n",
       "    </tr>\n",
       "    <tr>\n",
       "      <th>58</th>\n",
       "      <td>2023-05-20</td>\n",
       "      <td>15:00</td>\n",
       "      <td>Premier League</td>\n",
       "      <td>Matchweek 37</td>\n",
       "      <td>Sat</td>\n",
       "      <td>Away</td>\n",
       "      <td>W</td>\n",
       "      <td>1</td>\n",
       "      <td>0</td>\n",
       "      <td>Bournemouth</td>\n",
       "      <td>1.4</td>\n",
       "      <td>1.0</td>\n",
       "      <td>59</td>\n",
       "      <td>10240</td>\n",
       "      <td>Bruno Fernandes</td>\n",
       "      <td>4-2-3-1</td>\n",
       "      <td>4-2-3-1</td>\n",
       "      <td>Chris Kavanagh</td>\n",
       "      <td>Match Report</td>\n",
       "      <td>NaN</td>\n",
       "    </tr>\n",
       "    <tr>\n",
       "      <th>59</th>\n",
       "      <td>2023-05-25</td>\n",
       "      <td>20:00</td>\n",
       "      <td>Premier League</td>\n",
       "      <td>Matchweek 32</td>\n",
       "      <td>Thu</td>\n",
       "      <td>Home</td>\n",
       "      <td>W</td>\n",
       "      <td>4</td>\n",
       "      <td>1</td>\n",
       "      <td>Chelsea</td>\n",
       "      <td>5.2</td>\n",
       "      <td>1.9</td>\n",
       "      <td>42</td>\n",
       "      <td>73561</td>\n",
       "      <td>Bruno Fernandes</td>\n",
       "      <td>4-2-3-1</td>\n",
       "      <td>4-3-3</td>\n",
       "      <td>Stuart Attwell</td>\n",
       "      <td>Match Report</td>\n",
       "      <td>NaN</td>\n",
       "    </tr>\n",
       "    <tr>\n",
       "      <th>60</th>\n",
       "      <td>2023-05-28</td>\n",
       "      <td>16:30</td>\n",
       "      <td>Premier League</td>\n",
       "      <td>Matchweek 38</td>\n",
       "      <td>Sun</td>\n",
       "      <td>Home</td>\n",
       "      <td>W</td>\n",
       "      <td>2</td>\n",
       "      <td>1</td>\n",
       "      <td>Fulham</td>\n",
       "      <td>2.9</td>\n",
       "      <td>1.8</td>\n",
       "      <td>53</td>\n",
       "      <td>73465</td>\n",
       "      <td>Harry Maguire</td>\n",
       "      <td>4-2-3-1</td>\n",
       "      <td>4-2-3-1</td>\n",
       "      <td>Robert Jones</td>\n",
       "      <td>Match Report</td>\n",
       "      <td>NaN</td>\n",
       "    </tr>\n",
       "    <tr>\n",
       "      <th>61</th>\n",
       "      <td>2023-06-03</td>\n",
       "      <td>15:00</td>\n",
       "      <td>FA Cup</td>\n",
       "      <td>Final</td>\n",
       "      <td>Sat</td>\n",
       "      <td>Neutral</td>\n",
       "      <td>L</td>\n",
       "      <td>1</td>\n",
       "      <td>2</td>\n",
       "      <td>Manchester City</td>\n",
       "      <td>NaN</td>\n",
       "      <td>NaN</td>\n",
       "      <td>40</td>\n",
       "      <td>83179</td>\n",
       "      <td>Bruno Fernandes</td>\n",
       "      <td>4-2-3-1</td>\n",
       "      <td>3-2-4-1</td>\n",
       "      <td>Paul Tierney</td>\n",
       "      <td>Match Report</td>\n",
       "      <td>NaN</td>\n",
       "    </tr>\n",
       "  </tbody>\n",
       "</table>\n",
       "<p>62 rows × 20 columns</p>\n",
       "</div>"
      ],
      "text/plain": [
       "          Date   Time            Comp         Round  Day    Venue Result GF  \\\n",
       "0   2022-08-07  14:00  Premier League   Matchweek 1  Sun     Home      L  1   \n",
       "1   2022-08-13  17:30  Premier League   Matchweek 2  Sat     Away      L  0   \n",
       "2   2022-08-22  20:00  Premier League   Matchweek 3  Mon     Home      W  2   \n",
       "3   2022-08-27  12:30  Premier League   Matchweek 4  Sat     Away      W  1   \n",
       "4   2022-09-01  20:00  Premier League   Matchweek 5  Thu     Away      W  1   \n",
       "..         ...    ...             ...           ...  ...      ...    ... ..   \n",
       "57  2023-05-13  15:00  Premier League  Matchweek 36  Sat     Home      W  2   \n",
       "58  2023-05-20  15:00  Premier League  Matchweek 37  Sat     Away      W  1   \n",
       "59  2023-05-25  20:00  Premier League  Matchweek 32  Thu     Home      W  4   \n",
       "60  2023-05-28  16:30  Premier League  Matchweek 38  Sun     Home      W  2   \n",
       "61  2023-06-03  15:00          FA Cup         Final  Sat  Neutral      L  1   \n",
       "\n",
       "   GA         Opponent   xG  xGA  Poss  Attendance          Captain Formation  \\\n",
       "0   2         Brighton  1.4  1.5    62       73711    Harry Maguire     4-3-3   \n",
       "1   4        Brentford  0.9  1.6    66       17051    Harry Maguire   4-2-3-1   \n",
       "2   1        Liverpool  1.8  1.3    30       74147  Bruno Fernandes   4-2-3-1   \n",
       "3   0      Southampton  1.1  1.4    51       31196  Bruno Fernandes   4-2-3-1   \n",
       "4   0   Leicester City  1.5  0.7    47       32226  Bruno Fernandes   4-2-3-1   \n",
       ".. ..              ...  ...  ...   ...         ...              ...       ...   \n",
       "57  0           Wolves  3.2  0.3    48       73570  Bruno Fernandes   4-2-3-1   \n",
       "58  0      Bournemouth  1.4  1.0    59       10240  Bruno Fernandes   4-2-3-1   \n",
       "59  1          Chelsea  5.2  1.9    42       73561  Bruno Fernandes   4-2-3-1   \n",
       "60  1           Fulham  2.9  1.8    53       73465    Harry Maguire   4-2-3-1   \n",
       "61  2  Manchester City  NaN  NaN    40       83179  Bruno Fernandes   4-2-3-1   \n",
       "\n",
       "   Opp Formation         Referee  Match Report Notes  \n",
       "0        3-3-3-1    Paul Tierney  Match Report   NaN  \n",
       "1          5-3-2  Stuart Attwell  Match Report   NaN  \n",
       "2          4-3-3  Michael Oliver  Match Report   NaN  \n",
       "3        4-2-3-1     Andy Madley  Match Report   NaN  \n",
       "4        4-1-4-1    Craig Pawson  Match Report   NaN  \n",
       "..           ...             ...           ...   ...  \n",
       "57         4-4-2     John Brooks  Match Report   NaN  \n",
       "58       4-2-3-1  Chris Kavanagh  Match Report   NaN  \n",
       "59         4-3-3  Stuart Attwell  Match Report   NaN  \n",
       "60       4-2-3-1    Robert Jones  Match Report   NaN  \n",
       "61       3-2-4-1    Paul Tierney  Match Report   NaN  \n",
       "\n",
       "[62 rows x 20 columns]"
      ]
     },
     "execution_count": 246,
     "metadata": {},
     "output_type": "execute_result"
    }
   ],
   "source": [
    "matches[0]"
   ]
  },
  {
   "cell_type": "code",
   "execution_count": 247,
   "id": "88f80f02",
   "metadata": {},
   "outputs": [],
   "source": [
    "soup = BeautifulSoup(data.text)"
   ]
  },
  {
   "cell_type": "code",
   "execution_count": 248,
   "id": "392bacee",
   "metadata": {},
   "outputs": [],
   "source": [
    "links = soup.find_all('a')"
   ]
  },
  {
   "cell_type": "code",
   "execution_count": 249,
   "id": "5ca219a5",
   "metadata": {},
   "outputs": [],
   "source": [
    "links = [l.get(\"href\") for l in links]"
   ]
  },
  {
   "cell_type": "code",
   "execution_count": 250,
   "id": "f3cc0a04",
   "metadata": {},
   "outputs": [],
   "source": [
    "links =[l for l in links if l and 'all_comps/shooting/' in l ]"
   ]
  },
  {
   "cell_type": "code",
   "execution_count": 251,
   "id": "92758bcf",
   "metadata": {},
   "outputs": [],
   "source": [
    "data = requests.get(f\"https://fbref.com{links[0]}\")"
   ]
  },
  {
   "cell_type": "code",
   "execution_count": 252,
   "id": "06e71c7f",
   "metadata": {},
   "outputs": [],
   "source": [
    "shooting =pd.read_html(data.text,match=\"Shooting\")[0]"
   ]
  },
  {
   "cell_type": "code",
   "execution_count": 253,
   "id": "7a00c1e7",
   "metadata": {},
   "outputs": [],
   "source": [
    "shooting.columns=shooting.columns.droplevel()"
   ]
  },
  {
   "cell_type": "code",
   "execution_count": 254,
   "id": "b20df1a4",
   "metadata": {},
   "outputs": [],
   "source": [
    "team_data = matches[0].merge(shooting[[\"Date\",\"Sh\",\"SoT\",\"Dist\",\"FK\",\"PK\",\"PKatt\"]],on=\"Date\")"
   ]
  },
  {
   "cell_type": "code",
   "execution_count": 255,
   "id": "3e6b9093",
   "metadata": {},
   "outputs": [],
   "source": [
    "team_data.to_csv(\"united22_23.csv\")"
   ]
  },
  {
   "cell_type": "code",
   "execution_count": null,
   "id": "a603af32",
   "metadata": {},
   "outputs": [],
   "source": []
  },
  {
   "cell_type": "code",
   "execution_count": null,
   "id": "771b0aa7",
   "metadata": {},
   "outputs": [],
   "source": []
  }
 ],
 "metadata": {
  "kernelspec": {
   "display_name": "Python 3 (ipykernel)",
   "language": "python",
   "name": "python3"
  },
  "language_info": {
   "codemirror_mode": {
    "name": "ipython",
    "version": 3
   },
   "file_extension": ".py",
   "mimetype": "text/x-python",
   "name": "python",
   "nbconvert_exporter": "python",
   "pygments_lexer": "ipython3",
   "version": "3.7.9"
  }
 },
 "nbformat": 4,
 "nbformat_minor": 5
}
